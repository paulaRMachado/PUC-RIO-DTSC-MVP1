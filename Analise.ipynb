{
 "cells": [
  {
   "cell_type": "code",
   "execution_count": 0,
   "metadata": {
    "application/vnd.databricks.v1+cell": {
     "cellMetadata": {
      "byteLimit": 2048000,
      "rowLimit": 10000
     },
     "inputWidgets": {},
     "nuid": "5e84a3f2-6e93-4559-977c-ee0191bf9d1d",
     "showTitle": false,
     "tableResultSettingsMap": {},
     "title": ""
    }
   },
   "outputs": [
    {
     "output_type": "display_data",
     "data": {
      "text/html": [
       "<style scoped>\n",
       "  .table-result-container {\n",
       "    max-height: 300px;\n",
       "    overflow: auto;\n",
       "  }\n",
       "  table, th, td {\n",
       "    border: 1px solid black;\n",
       "    border-collapse: collapse;\n",
       "  }\n",
       "  th, td {\n",
       "    padding: 5px;\n",
       "  }\n",
       "  th {\n",
       "    text-align: left;\n",
       "  }\n",
       "</style><div class='table-result-container'><table class='table-result'><thead style='background-color: white'><tr><th>col_name</th><th>data_type</th><th>comment</th></tr></thead><tbody><tr><td>id_pais</td><td>int</td><td>Identificador único do país, usado como chave primária.</td></tr><tr><td>Entity</td><td>string</td><td>Nome oficial do país ou território.</td></tr><tr><td>Latitude</td><td>double</td><td>Coordenada de latitude geográfica em graus decimais.</td></tr><tr><td>Longitude</td><td>double</td><td>Coordenada de longitude geográfica em graus decimais.</td></tr><tr><td>landArea</td><td>double</td><td>Área territorial total do país, em quilômetros quadrados (km²).</td></tr><tr><td>PopulationalDensity</td><td>double</td><td>Densidade populacional, expressa em habitantes por km².</td></tr><tr><td>id_continente</td><td>int</td><td>Identificador do continente ao qual o país pertence.</td></tr><tr><td></td><td></td><td></td></tr><tr><td># Detailed Table Information</td><td></td><td></td></tr><tr><td>Catalog</td><td>spark_catalog</td><td></td></tr><tr><td>Database</td><td>dadosenergeticos</td><td></td></tr><tr><td>Table</td><td>paises</td><td></td></tr><tr><td>Created Time</td><td>Wed Apr 09 22:23:18 UTC 2025</td><td></td></tr><tr><td>Last Access</td><td>UNKNOWN</td><td></td></tr><tr><td>Created By</td><td>Spark 3.3.2</td><td></td></tr><tr><td>Statistics</td><td>55860 bytes</td><td></td></tr><tr><td>Type</td><td>MANAGED</td><td></td></tr><tr><td>Comment</td><td>Tabela com dados geográficos e demográficos dos países, usada como dimensão no modelo analítico.</td><td></td></tr><tr><td>Location</td><td>dbfs:/user/hive/warehouse/dadosenergeticos.db/paises</td><td></td></tr><tr><td>Provider</td><td>delta</td><td></td></tr><tr><td>Owner</td><td>root</td><td></td></tr><tr><td>Is_managed_location</td><td>true</td><td></td></tr><tr><td>Table Properties</td><td>[delta.minReaderVersion=1,delta.minWriterVersion=2]</td><td></td></tr></tbody></table></div>"
      ]
     },
     "metadata": {
      "application/vnd.databricks.v1+output": {
       "addedWidgets": {},
       "aggData": [],
       "aggError": "",
       "aggOverflow": false,
       "aggSchema": [],
       "aggSeriesLimitReached": false,
       "aggType": "",
       "arguments": {},
       "columnCustomDisplayInfos": {},
       "data": [
        [
         "id_pais",
         "int",
         "Identificador único do país, usado como chave primária."
        ],
        [
         "Entity",
         "string",
         "Nome oficial do país ou território."
        ],
        [
         "Latitude",
         "double",
         "Coordenada de latitude geográfica em graus decimais."
        ],
        [
         "Longitude",
         "double",
         "Coordenada de longitude geográfica em graus decimais."
        ],
        [
         "landArea",
         "double",
         "Área territorial total do país, em quilômetros quadrados (km²)."
        ],
        [
         "PopulationalDensity",
         "double",
         "Densidade populacional, expressa em habitantes por km²."
        ],
        [
         "id_continente",
         "int",
         "Identificador do continente ao qual o país pertence."
        ],
        [
         "",
         "",
         ""
        ],
        [
         "# Detailed Table Information",
         "",
         ""
        ],
        [
         "Catalog",
         "spark_catalog",
         ""
        ],
        [
         "Database",
         "dadosenergeticos",
         ""
        ],
        [
         "Table",
         "paises",
         ""
        ],
        [
         "Created Time",
         "Wed Apr 09 22:23:18 UTC 2025",
         ""
        ],
        [
         "Last Access",
         "UNKNOWN",
         ""
        ],
        [
         "Created By",
         "Spark 3.3.2",
         ""
        ],
        [
         "Statistics",
         "55860 bytes",
         ""
        ],
        [
         "Type",
         "MANAGED",
         ""
        ],
        [
         "Comment",
         "Tabela com dados geográficos e demográficos dos países, usada como dimensão no modelo analítico.",
         ""
        ],
        [
         "Location",
         "dbfs:/user/hive/warehouse/dadosenergeticos.db/paises",
         ""
        ],
        [
         "Provider",
         "delta",
         ""
        ],
        [
         "Owner",
         "root",
         ""
        ],
        [
         "Is_managed_location",
         "true",
         ""
        ],
        [
         "Table Properties",
         "[delta.minReaderVersion=1,delta.minWriterVersion=2]",
         ""
        ]
       ],
       "datasetInfos": [],
       "dbfsResultPath": null,
       "isJsonSchema": true,
       "metadata": {
        "isDbfsCommandResult": false
       },
       "overflow": false,
       "plotOptions": {
        "customPlotOptions": {},
        "displayType": "table",
        "pivotAggregation": null,
        "pivotColumns": null,
        "xColumns": null,
        "yColumns": null
       },
       "removedWidgets": [],
       "schema": [
        {
         "metadata": "{\"comment\":\"name of the column\"}",
         "name": "col_name",
         "type": "\"string\""
        },
        {
         "metadata": "{\"comment\":\"data type of the column\"}",
         "name": "data_type",
         "type": "\"string\""
        },
        {
         "metadata": "{\"comment\":\"comment of the column\"}",
         "name": "comment",
         "type": "\"string\""
        }
       ],
       "type": "table"
      }
     },
     "output_type": "display_data"
    }
   ],
   "source": [
    "%sql\n",
    "DESCRIBE EXTENDED dadosenergeticos.paises;"
   ]
  },
  {
   "cell_type": "code",
   "execution_count": 0,
   "metadata": {
    "application/vnd.databricks.v1+cell": {
     "cellMetadata": {
      "byteLimit": 2048000,
      "rowLimit": 10000
     },
     "inputWidgets": {},
     "nuid": "84e13feb-1213-4c03-9cbb-06f948d818d3",
     "showTitle": false,
     "tableResultSettingsMap": {},
     "title": ""
    }
   },
   "outputs": [
    {
     "output_type": "display_data",
     "data": {
      "text/html": [
       "<style scoped>\n",
       "  .table-result-container {\n",
       "    max-height: 300px;\n",
       "    overflow: auto;\n",
       "  }\n",
       "  table, th, td {\n",
       "    border: 1px solid black;\n",
       "    border-collapse: collapse;\n",
       "  }\n",
       "  th, td {\n",
       "    padding: 5px;\n",
       "  }\n",
       "  th {\n",
       "    text-align: left;\n",
       "  }\n",
       "</style><div class='table-result-container'><table class='table-result'><thead style='background-color: white'><tr><th>col_name</th><th>data_type</th><th>comment</th></tr></thead><tbody><tr><td>Year</td><td>bigint</td><td>Ano da medição, no formato AAAA.</td></tr><tr><td>access_electricity</td><td>double</td><td>Percentual da população com acesso à eletricidade.</td></tr><tr><td>access_clean_fuels_cooking</td><td>double</td><td>Percentual da população com acesso a combustíveis limpos para cozinhar.</td></tr><tr><td>renewable_generating_capacity_per_capita</td><td>double</td><td>Capacidade instalada de geração de eletricidade renovável per capita (W/pessoa).</td></tr><tr><td>financial_flows_developing_countries</td><td>double</td><td>Fluxos financeiros destinados a países em desenvolvimento (US$).</td></tr><tr><td>renewable_share_final_energy_consumption</td><td>double</td><td>Participação das energias renováveis no consumo final de energia (%).</td></tr><tr><td>electricity_fossil_fuels</td><td>double</td><td>Geração de eletricidade a partir de combustíveis fósseis (TWh).</td></tr><tr><td>electricity_nuclear</td><td>double</td><td>Geração de eletricidade por fontes nucleares (TWh).</td></tr><tr><td>electricity_renewables</td><td>double</td><td>Geração de eletricidade por fontes renováveis (TWh).</td></tr><tr><td>low_carbon_generation</td><td>double</td><td>Proporção da geração de eletricidade de baixa emissão de carbono (%).</td></tr><tr><td>Primary_energy_consumption_per_capita</td><td>double</td><td>Consumo de energia primária per capita (kWh/pessoa).</td></tr><tr><td>energy_intensity</td><td>double</td><td>Intensidade energética (MJ por US$ de PIB).</td></tr><tr><td>co2_emissions_kt</td><td>double</td><td>Emissões de CO₂ em quilotoneladas.</td></tr><tr><td>renewable_energy</td><td>double</td><td>Participação da energia renovável na matriz energética total (%).</td></tr><tr><td>gdp_growth</td><td>double</td><td>Crescimento anual do Produto Interno Bruto (PIB), em %.</td></tr><tr><td>gdp_per_capita</td><td>double</td><td>Produto Interno Bruto per capita (US$).</td></tr><tr><td>id_pais</td><td>bigint</td><td>Identificador do país, chave estrangeira para a dimensão paises.</td></tr><tr><td></td><td></td><td></td></tr><tr><td># Detailed Table Information</td><td></td><td></td></tr><tr><td>Catalog</td><td>spark_catalog</td><td></td></tr><tr><td>Database</td><td>dadosenergeticos</td><td></td></tr><tr><td>Table</td><td>dados</td><td></td></tr><tr><td>Created Time</td><td>Wed Apr 09 22:24:24 UTC 2025</td><td></td></tr><tr><td>Last Access</td><td>UNKNOWN</td><td></td></tr><tr><td>Created By</td><td>Spark 3.3.2</td><td></td></tr><tr><td>Statistics</td><td>547108 bytes</td><td></td></tr><tr><td>Type</td><td>MANAGED</td><td></td></tr><tr><td>Comment</td><td>Tabela fato contendo indicadores energéticos, ambientais e econômicos por país e ano, utilizada para análises históricas e geográficas no modelo analítico.</td><td></td></tr><tr><td>Location</td><td>dbfs:/user/hive/warehouse/dadosenergeticos.db/dados</td><td></td></tr><tr><td>Provider</td><td>delta</td><td></td></tr><tr><td>Owner</td><td>root</td><td></td></tr><tr><td>Is_managed_location</td><td>true</td><td></td></tr><tr><td>Table Properties</td><td>[delta.minReaderVersion=1,delta.minWriterVersion=2]</td><td></td></tr></tbody></table></div>"
      ]
     },
     "metadata": {
      "application/vnd.databricks.v1+output": {
       "addedWidgets": {},
       "aggData": [],
       "aggError": "",
       "aggOverflow": false,
       "aggSchema": [],
       "aggSeriesLimitReached": false,
       "aggType": "",
       "arguments": {},
       "columnCustomDisplayInfos": {},
       "data": [
        [
         "Year",
         "bigint",
         "Ano da medição, no formato AAAA."
        ],
        [
         "access_electricity",
         "double",
         "Percentual da população com acesso à eletricidade."
        ],
        [
         "access_clean_fuels_cooking",
         "double",
         "Percentual da população com acesso a combustíveis limpos para cozinhar."
        ],
        [
         "renewable_generating_capacity_per_capita",
         "double",
         "Capacidade instalada de geração de eletricidade renovável per capita (W/pessoa)."
        ],
        [
         "financial_flows_developing_countries",
         "double",
         "Fluxos financeiros destinados a países em desenvolvimento (US$)."
        ],
        [
         "renewable_share_final_energy_consumption",
         "double",
         "Participação das energias renováveis no consumo final de energia (%)."
        ],
        [
         "electricity_fossil_fuels",
         "double",
         "Geração de eletricidade a partir de combustíveis fósseis (TWh)."
        ],
        [
         "electricity_nuclear",
         "double",
         "Geração de eletricidade por fontes nucleares (TWh)."
        ],
        [
         "electricity_renewables",
         "double",
         "Geração de eletricidade por fontes renováveis (TWh)."
        ],
        [
         "low_carbon_generation",
         "double",
         "Proporção da geração de eletricidade de baixa emissão de carbono (%)."
        ],
        [
         "Primary_energy_consumption_per_capita",
         "double",
         "Consumo de energia primária per capita (kWh/pessoa)."
        ],
        [
         "energy_intensity",
         "double",
         "Intensidade energética (MJ por US$ de PIB)."
        ],
        [
         "co2_emissions_kt",
         "double",
         "Emissões de CO₂ em quilotoneladas."
        ],
        [
         "renewable_energy",
         "double",
         "Participação da energia renovável na matriz energética total (%)."
        ],
        [
         "gdp_growth",
         "double",
         "Crescimento anual do Produto Interno Bruto (PIB), em %."
        ],
        [
         "gdp_per_capita",
         "double",
         "Produto Interno Bruto per capita (US$)."
        ],
        [
         "id_pais",
         "bigint",
         "Identificador do país, chave estrangeira para a dimensão paises."
        ],
        [
         "",
         "",
         ""
        ],
        [
         "# Detailed Table Information",
         "",
         ""
        ],
        [
         "Catalog",
         "spark_catalog",
         ""
        ],
        [
         "Database",
         "dadosenergeticos",
         ""
        ],
        [
         "Table",
         "dados",
         ""
        ],
        [
         "Created Time",
         "Wed Apr 09 22:24:24 UTC 2025",
         ""
        ],
        [
         "Last Access",
         "UNKNOWN",
         ""
        ],
        [
         "Created By",
         "Spark 3.3.2",
         ""
        ],
        [
         "Statistics",
         "547108 bytes",
         ""
        ],
        [
         "Type",
         "MANAGED",
         ""
        ],
        [
         "Comment",
         "Tabela fato contendo indicadores energéticos, ambientais e econômicos por país e ano, utilizada para análises históricas e geográficas no modelo analítico.",
         ""
        ],
        [
         "Location",
         "dbfs:/user/hive/warehouse/dadosenergeticos.db/dados",
         ""
        ],
        [
         "Provider",
         "delta",
         ""
        ],
        [
         "Owner",
         "root",
         ""
        ],
        [
         "Is_managed_location",
         "true",
         ""
        ],
        [
         "Table Properties",
         "[delta.minReaderVersion=1,delta.minWriterVersion=2]",
         ""
        ]
       ],
       "datasetInfos": [],
       "dbfsResultPath": null,
       "isJsonSchema": true,
       "metadata": {
        "isDbfsCommandResult": false
       },
       "overflow": false,
       "plotOptions": {
        "customPlotOptions": {},
        "displayType": "table",
        "pivotAggregation": null,
        "pivotColumns": null,
        "xColumns": null,
        "yColumns": null
       },
       "removedWidgets": [],
       "schema": [
        {
         "metadata": "{\"comment\":\"name of the column\"}",
         "name": "col_name",
         "type": "\"string\""
        },
        {
         "metadata": "{\"comment\":\"data type of the column\"}",
         "name": "data_type",
         "type": "\"string\""
        },
        {
         "metadata": "{\"comment\":\"comment of the column\"}",
         "name": "comment",
         "type": "\"string\""
        }
       ],
       "type": "table"
      }
     },
     "output_type": "display_data"
    }
   ],
   "source": [
    "%sql\n",
    "DESCRIBE EXTENDED dadosenergeticos.dados;"
   ]
  },
  {
   "cell_type": "code",
   "execution_count": 0,
   "metadata": {
    "application/vnd.databricks.v1+cell": {
     "cellMetadata": {
      "byteLimit": 2048000,
      "rowLimit": 10000
     },
     "inputWidgets": {},
     "nuid": "b5104ab7-4fb8-4dad-941d-8d7e3f955811",
     "showTitle": false,
     "tableResultSettingsMap": {},
     "title": ""
    }
   },
   "outputs": [
    {
     "output_type": "display_data",
     "data": {
      "text/html": [
       "<style scoped>\n",
       "  .table-result-container {\n",
       "    max-height: 300px;\n",
       "    overflow: auto;\n",
       "  }\n",
       "  table, th, td {\n",
       "    border: 1px solid black;\n",
       "    border-collapse: collapse;\n",
       "  }\n",
       "  th, td {\n",
       "    padding: 5px;\n",
       "  }\n",
       "  th {\n",
       "    text-align: left;\n",
       "  }\n",
       "</style><div class='table-result-container'><table class='table-result'><thead style='background-color: white'><tr><th>col_name</th><th>data_type</th><th>comment</th></tr></thead><tbody><tr><td>id_continente</td><td>bigint</td><td>Identificador único do continente (chave primária)</td></tr><tr><td>Continente</td><td>string</td><td>Nome do continente (ex.: Africa, North America, South America, Asia, Europe, Oceania, Antartica)</td></tr><tr><td></td><td></td><td></td></tr><tr><td># Detailed Table Information</td><td></td><td></td></tr><tr><td>Catalog</td><td>spark_catalog</td><td></td></tr><tr><td>Database</td><td>dadosenergeticos</td><td></td></tr><tr><td>Table</td><td>continente</td><td></td></tr><tr><td>Created Time</td><td>Wed Apr 09 22:22:42 UTC 2025</td><td></td></tr><tr><td>Last Access</td><td>UNKNOWN</td><td></td></tr><tr><td>Created By</td><td>Spark 3.3.2</td><td></td></tr><tr><td>Statistics</td><td>38424 bytes</td><td></td></tr><tr><td>Type</td><td>MANAGED</td><td></td></tr><tr><td>Location</td><td>dbfs:/user/hive/warehouse/dadosenergeticos.db/continente</td><td></td></tr><tr><td>Provider</td><td>delta</td><td></td></tr><tr><td>Owner</td><td>root</td><td></td></tr><tr><td>Is_managed_location</td><td>true</td><td></td></tr><tr><td>Table Properties</td><td>[delta.minReaderVersion=1,delta.minWriterVersion=2]</td><td></td></tr></tbody></table></div>"
      ]
     },
     "metadata": {
      "application/vnd.databricks.v1+output": {
       "addedWidgets": {},
       "aggData": [],
       "aggError": "",
       "aggOverflow": false,
       "aggSchema": [],
       "aggSeriesLimitReached": false,
       "aggType": "",
       "arguments": {},
       "columnCustomDisplayInfos": {},
       "data": [
        [
         "id_continente",
         "bigint",
         "Identificador único do continente (chave primária)"
        ],
        [
         "Continente",
         "string",
         "Nome do continente (ex.: Africa, North America, South America, Asia, Europe, Oceania, Antartica)"
        ],
        [
         "",
         "",
         ""
        ],
        [
         "# Detailed Table Information",
         "",
         ""
        ],
        [
         "Catalog",
         "spark_catalog",
         ""
        ],
        [
         "Database",
         "dadosenergeticos",
         ""
        ],
        [
         "Table",
         "continente",
         ""
        ],
        [
         "Created Time",
         "Wed Apr 09 22:22:42 UTC 2025",
         ""
        ],
        [
         "Last Access",
         "UNKNOWN",
         ""
        ],
        [
         "Created By",
         "Spark 3.3.2",
         ""
        ],
        [
         "Statistics",
         "38424 bytes",
         ""
        ],
        [
         "Type",
         "MANAGED",
         ""
        ],
        [
         "Location",
         "dbfs:/user/hive/warehouse/dadosenergeticos.db/continente",
         ""
        ],
        [
         "Provider",
         "delta",
         ""
        ],
        [
         "Owner",
         "root",
         ""
        ],
        [
         "Is_managed_location",
         "true",
         ""
        ],
        [
         "Table Properties",
         "[delta.minReaderVersion=1,delta.minWriterVersion=2]",
         ""
        ]
       ],
       "datasetInfos": [],
       "dbfsResultPath": null,
       "isJsonSchema": true,
       "metadata": {
        "isDbfsCommandResult": false
       },
       "overflow": false,
       "plotOptions": {
        "customPlotOptions": {},
        "displayType": "table",
        "pivotAggregation": null,
        "pivotColumns": null,
        "xColumns": null,
        "yColumns": null
       },
       "removedWidgets": [],
       "schema": [
        {
         "metadata": "{\"comment\":\"name of the column\"}",
         "name": "col_name",
         "type": "\"string\""
        },
        {
         "metadata": "{\"comment\":\"data type of the column\"}",
         "name": "data_type",
         "type": "\"string\""
        },
        {
         "metadata": "{\"comment\":\"comment of the column\"}",
         "name": "comment",
         "type": "\"string\""
        }
       ],
       "type": "table"
      }
     },
     "output_type": "display_data"
    }
   ],
   "source": [
    "%sql\n",
    "DESCRIBE EXTENDED dadosenergeticos.continente;"
   ]
  },
  {
   "cell_type": "code",
   "execution_count": 0,
   "metadata": {
    "application/vnd.databricks.v1+cell": {
     "cellMetadata": {
      "byteLimit": 2048000,
      "rowLimit": 10000
     },
     "inputWidgets": {},
     "nuid": "89f5bf53-e14f-4ebf-92b7-c04b7590b96c",
     "showTitle": false,
     "tableResultSettingsMap": {},
     "title": ""
    }
   },
   "outputs": [
    {
     "output_type": "stream",
     "name": "stdout",
     "output_type": "stream",
     "text": [
      "<class 'pandas.core.frame.DataFrame'>\nRangeIndex: 3649 entries, 0 to 3648\nData columns (total 17 columns):\n #   Column                                    Non-Null Count  Dtype  \n---  ------                                    --------------  -----  \n 0   Year                                      3649 non-null   int64  \n 1   access_electricity                        3639 non-null   float64\n 2   access_clean_fuels_cooking                3480 non-null   float64\n 3   renewable_generating_capacity_per_capita  2718 non-null   float64\n 4   financial_flows_developing_countries      1560 non-null   float64\n 5   renewable_share_final_energy_consumption  3455 non-null   float64\n 6   electricity_fossil_fuels                  3628 non-null   float64\n 7   electricity_nuclear                       3523 non-null   float64\n 8   electricity_renewables                    3628 non-null   float64\n 9   low_carbon_generation                     3607 non-null   float64\n 10  Primary_energy_consumption_per_capita     3649 non-null   float64\n 11  energy_intensity                          3442 non-null   float64\n 12  co2_emissions_kt                          3221 non-null   float64\n 13  renewable_energy                          1512 non-null   float64\n 14  gdp_growth                                3332 non-null   float64\n 15  gdp_per_capita                            3367 non-null   float64\n 16  id_pais                                   3649 non-null   int64  \ndtypes: float64(15), int64(2)\nmemory usage: 484.8 KB\n"
     ]
    }
   ],
   "source": [
    "%python\n",
    "dados_pd = spark.table(\"dadosenergeticos.dados\").toPandas()\n",
    "dados_pd.info()"
   ]
  },
  {
   "cell_type": "code",
   "execution_count": 0,
   "metadata": {
    "application/vnd.databricks.v1+cell": {
     "cellMetadata": {
      "byteLimit": 2048000,
      "rowLimit": 10000
     },
     "inputWidgets": {},
     "nuid": "edd75fae-6abc-4b0b-be2d-4b292e2ccffa",
     "showTitle": false,
     "tableResultSettingsMap": {},
     "title": ""
    }
   },
   "outputs": [
    {
     "output_type": "stream",
     "name": "stdout",
     "output_type": "stream",
     "text": [
      "<class 'pandas.core.frame.DataFrame'>\nRangeIndex: 176 entries, 0 to 175\nData columns (total 7 columns):\n #   Column               Non-Null Count  Dtype  \n---  ------               --------------  -----  \n 0   id_pais              176 non-null    int32  \n 1   Entity               176 non-null    object \n 2   Latitude             175 non-null    float64\n 3   Longitude            175 non-null    float64\n 4   landArea             175 non-null    float64\n 5   PopulationalDensity  170 non-null    float64\n 6   id_continente        176 non-null    int32  \ndtypes: float64(4), int32(2), object(1)\nmemory usage: 8.4+ KB\n"
     ]
    }
   ],
   "source": [
    "%python\n",
    "paises_pd = spark.table(\"dadosenergeticos.paises\").toPandas()\n",
    "paises_pd.info()"
   ]
  },
  {
   "cell_type": "markdown",
   "metadata": {
    "application/vnd.databricks.v1+cell": {
     "cellMetadata": {
      "byteLimit": 2048000,
      "rowLimit": 10000
     },
     "inputWidgets": {},
     "nuid": "da08644c-20f5-403d-ac3e-faaec1ef8e7e",
     "showTitle": false,
     "tableResultSettingsMap": {},
     "title": ""
    }
   },
   "source": [
    "Quais países possuem o maior consumo de energia total?\n"
   ]
  },
  {
   "cell_type": "code",
   "execution_count": 0,
   "metadata": {
    "application/vnd.databricks.v1+cell": {
     "cellMetadata": {
      "byteLimit": 2048000,
      "rowLimit": 10000
     },
     "inputWidgets": {},
     "nuid": "d5d30bea-4aa6-4389-908c-6c8057e10c46",
     "showTitle": false,
     "tableResultSettingsMap": {},
     "title": ""
    }
   },
   "outputs": [
    {
     "output_type": "display_data",
     "data": {
      "text/html": [
       "<style scoped>\n",
       "  .table-result-container {\n",
       "    max-height: 300px;\n",
       "    overflow: auto;\n",
       "  }\n",
       "  table, th, td {\n",
       "    border: 1px solid black;\n",
       "    border-collapse: collapse;\n",
       "  }\n",
       "  th, td {\n",
       "    padding: 5px;\n",
       "  }\n",
       "  th {\n",
       "    text-align: left;\n",
       "  }\n",
       "</style><div class='table-result-container'><table class='table-result'><thead style='background-color: white'><tr><th>pais</th><th>media_consumo_per_capita_5_anos</th></tr></thead><tbody><tr><td>Qatar</td><td>211679.29</td></tr><tr><td>Iceland</td><td>179074.73</td></tr><tr><td>Singapore</td><td>159826.6</td></tr><tr><td>Bahrain</td><td>148473.13</td></tr><tr><td>United Arab Emirates</td><td>134892.35</td></tr></tbody></table></div>"
      ]
     },
     "metadata": {
      "application/vnd.databricks.v1+output": {
       "addedWidgets": {},
       "aggData": [],
       "aggError": "",
       "aggOverflow": false,
       "aggSchema": [],
       "aggSeriesLimitReached": false,
       "aggType": "",
       "arguments": {},
       "columnCustomDisplayInfos": {},
       "data": [
        [
         "Qatar",
         211679.29
        ],
        [
         "Iceland",
         179074.73
        ],
        [
         "Singapore",
         159826.6
        ],
        [
         "Bahrain",
         148473.13
        ],
        [
         "United Arab Emirates",
         134892.35
        ]
       ],
       "datasetInfos": [],
       "dbfsResultPath": null,
       "isJsonSchema": true,
       "metadata": {
        "isDbfsCommandResult": false
       },
       "overflow": false,
       "plotOptions": {
        "customPlotOptions": {},
        "displayType": "table",
        "pivotAggregation": null,
        "pivotColumns": null,
        "xColumns": null,
        "yColumns": null
       },
       "removedWidgets": [],
       "schema": [
        {
         "metadata": "{\"comment\":\"Nome oficial do país ou território.\"}",
         "name": "pais",
         "type": "\"string\""
        },
        {
         "metadata": "{}",
         "name": "media_consumo_per_capita_5_anos",
         "type": "\"double\""
        }
       ],
       "type": "table"
      }
     },
     "output_type": "display_data"
    }
   ],
   "source": [
    "%sql\n",
    "SELECT \n",
    "    p.Entity AS pais,\n",
    "    ROUND(AVG(d.Primary_energy_consumption_per_capita), 2) AS media_consumo_per_capita_5_anos\n",
    "FROM \n",
    "    dadosenergeticos.dados d\n",
    "JOIN \n",
    "    dadosenergeticos.paises p ON d.id_pais = p.id_pais\n",
    "WHERE \n",
    "    d.Year BETWEEN 2015 AND 2020\n",
    "    AND d.Primary_energy_consumption_per_capita IS NOT NULL\n",
    "GROUP BY \n",
    "    p.Entity\n",
    "ORDER BY \n",
    "    media_consumo_per_capita_5_anos DESC\n",
    "LIMIT 5;\n"
   ]
  },
  {
   "cell_type": "code",
   "execution_count": 0,
   "metadata": {
    "application/vnd.databricks.v1+cell": {
     "cellMetadata": {
      "byteLimit": 2048000,
      "rowLimit": 10000
     },
     "inputWidgets": {},
     "nuid": "b622855d-8836-4b6f-bd61-e97d92b75f5d",
     "showTitle": false,
     "tableResultSettingsMap": {},
     "title": ""
    }
   },
   "outputs": [
    {
     "output_type": "display_data",
     "data": {
      "text/html": [
       "<style scoped>\n",
       "  .table-result-container {\n",
       "    max-height: 300px;\n",
       "    overflow: auto;\n",
       "  }\n",
       "  table, th, td {\n",
       "    border: 1px solid black;\n",
       "    border-collapse: collapse;\n",
       "  }\n",
       "  th, td {\n",
       "    padding: 5px;\n",
       "  }\n",
       "  th {\n",
       "    text-align: left;\n",
       "  }\n",
       "</style><div class='table-result-container'><table class='table-result'><thead style='background-color: white'><tr><th>pais</th><th>total_consumo_per_capita_5_anos</th></tr></thead><tbody><tr><td>Qatar</td><td>392095.86</td></tr><tr><td>Iceland</td><td>331282.33</td></tr><tr><td>Singapore</td><td>312914.19</td></tr><tr><td>Bahrain</td><td>311494.27</td></tr><tr><td>United Arab Emirates</td><td>260952.05000000002</td></tr></tbody></table></div>"
      ]
     },
     "metadata": {
      "application/vnd.databricks.v1+output": {
       "addedWidgets": {},
       "aggData": [],
       "aggError": "",
       "aggOverflow": false,
       "aggSchema": [],
       "aggSeriesLimitReached": false,
       "aggType": "",
       "arguments": {},
       "columnCustomDisplayInfos": {},
       "data": [
        [
         "Qatar",
         392095.86
        ],
        [
         "Iceland",
         331282.33
        ],
        [
         "Singapore",
         312914.19
        ],
        [
         "Bahrain",
         311494.27
        ],
        [
         "United Arab Emirates",
         260952.05000000002
        ]
       ],
       "datasetInfos": [],
       "dbfsResultPath": null,
       "isJsonSchema": true,
       "metadata": {
        "isDbfsCommandResult": false
       },
       "overflow": false,
       "plotOptions": {
        "customPlotOptions": {},
        "displayType": "table",
        "pivotAggregation": null,
        "pivotColumns": null,
        "xColumns": null,
        "yColumns": null
       },
       "removedWidgets": [],
       "schema": [
        {
         "metadata": "{\"comment\":\"Nome oficial do país ou território.\"}",
         "name": "pais",
         "type": "\"string\""
        },
        {
         "metadata": "{}",
         "name": "total_consumo_per_capita_5_anos",
         "type": "\"double\""
        }
       ],
       "type": "table"
      }
     },
     "output_type": "display_data"
    }
   ],
   "source": [
    "%sql\n",
    "SELECT \n",
    "    p.Entity AS pais,\n",
    "    SUM(d.Primary_energy_consumption_per_capita) AS total_consumo_per_capita_5_anos\n",
    "FROM \n",
    "    dadosenergeticos.dados d\n",
    "JOIN \n",
    "    dadosenergeticos.paises p ON d.id_pais = p.id_pais\n",
    "WHERE \n",
    "    d.Year BETWEEN 2019 AND 2024\n",
    "    AND d.Primary_energy_consumption_per_capita IS NOT NULL\n",
    "GROUP BY \n",
    "    p.Entity\n",
    "ORDER BY \n",
    "    total_consumo_per_capita_5_anos DESC\n",
    "LIMIT 5;"
   ]
  },
  {
   "cell_type": "code",
   "execution_count": 0,
   "metadata": {
    "application/vnd.databricks.v1+cell": {
     "cellMetadata": {
      "byteLimit": 2048000,
      "rowLimit": 10000
     },
     "inputWidgets": {},
     "nuid": "5ab8e62b-132b-4043-b7f8-f0587358b3b0",
     "showTitle": false,
     "tableResultSettingsMap": {},
     "title": ""
    }
   },
   "outputs": [
    {
     "output_type": "display_data",
     "data": {
      "text/html": [
       "<style scoped>\n",
       "  .table-result-container {\n",
       "    max-height: 300px;\n",
       "    overflow: auto;\n",
       "  }\n",
       "  table, th, td {\n",
       "    border: 1px solid black;\n",
       "    border-collapse: collapse;\n",
       "  }\n",
       "  th, td {\n",
       "    padding: 5px;\n",
       "  }\n",
       "  th {\n",
       "    text-align: left;\n",
       "  }\n",
       "</style><div class='table-result-container'><table class='table-result'><thead style='background-color: white'><tr><th>pais</th><th>total_eletricidade_5_anos</th><th>media_consumo_per_capita_5_anos</th></tr></thead><tbody><tr><td>China</td><td>40754.39</td><td>26813.78</td></tr><tr><td>United States</td><td>24626.97</td><td>78254.74</td></tr><tr><td>India</td><td>8958.35</td><td>6367.0</td></tr><tr><td>Japan</td><td>5987.22</td><td>40861.68</td></tr><tr><td>Canada</td><td>3816.42</td><td>108686.58</td></tr></tbody></table></div>"
      ]
     },
     "metadata": {
      "application/vnd.databricks.v1+output": {
       "addedWidgets": {},
       "aggData": [],
       "aggError": "",
       "aggOverflow": false,
       "aggSchema": [],
       "aggSeriesLimitReached": false,
       "aggType": "",
       "arguments": {},
       "columnCustomDisplayInfos": {},
       "data": [
        [
         "China",
         40754.39,
         26813.78
        ],
        [
         "United States",
         24626.97,
         78254.74
        ],
        [
         "India",
         8958.35,
         6367.0
        ],
        [
         "Japan",
         5987.22,
         40861.68
        ],
        [
         "Canada",
         3816.42,
         108686.58
        ]
       ],
       "datasetInfos": [],
       "dbfsResultPath": null,
       "isJsonSchema": true,
       "metadata": {
        "isDbfsCommandResult": false
       },
       "overflow": false,
       "plotOptions": {
        "customPlotOptions": {},
        "displayType": "table",
        "pivotAggregation": null,
        "pivotColumns": null,
        "xColumns": null,
        "yColumns": null
       },
       "removedWidgets": [],
       "schema": [
        {
         "metadata": "{\"comment\":\"Nome oficial do país ou território.\"}",
         "name": "pais",
         "type": "\"string\""
        },
        {
         "metadata": "{}",
         "name": "total_eletricidade_5_anos",
         "type": "\"double\""
        },
        {
         "metadata": "{}",
         "name": "media_consumo_per_capita_5_anos",
         "type": "\"double\""
        }
       ],
       "type": "table"
      }
     },
     "output_type": "display_data"
    }
   ],
   "source": [
    "%sql\n",
    "SELECT \n",
    "    p.Entity AS pais,\n",
    "    ROUND(SUM(\n",
    "        d.electricity_fossil_fuels +\n",
    "        d.electricity_nuclear +\n",
    "        d.electricity_renewables\n",
    "    ), 2) AS total_eletricidade_5_anos,\n",
    "    ROUND(AVG(d.Primary_energy_consumption_per_capita), 2) AS media_consumo_per_capita_5_anos\n",
    "FROM \n",
    "    dadosenergeticos.dados d\n",
    "JOIN \n",
    "    dadosenergeticos.paises p ON d.id_pais = p.id_pais\n",
    "WHERE \n",
    "    d.Year BETWEEN 2015 AND 2020\n",
    "    AND d.electricity_fossil_fuels IS NOT NULL\n",
    "    AND d.electricity_nuclear IS NOT NULL\n",
    "    AND d.electricity_renewables IS NOT NULL\n",
    "    AND d.Primary_energy_consumption_per_capita IS NOT NULL\n",
    "GROUP BY \n",
    "    p.Entity\n",
    "ORDER BY \n",
    "    total_eletricidade_5_anos DESC\n",
    "LIMIT 5;\n"
   ]
  },
  {
   "cell_type": "markdown",
   "metadata": {
    "application/vnd.databricks.v1+cell": {
     "cellMetadata": {
      "byteLimit": 2048000,
      "rowLimit": 10000
     },
     "inputWidgets": {},
     "nuid": "131da5c4-78a0-4c81-9c5a-7f92396081be",
     "showTitle": false,
     "tableResultSettingsMap": {},
     "title": ""
    }
   },
   "source": [
    "Quais países são mais dependentes de fontes não renováveis?"
   ]
  },
  {
   "cell_type": "code",
   "execution_count": 0,
   "metadata": {
    "application/vnd.databricks.v1+cell": {
     "cellMetadata": {
      "byteLimit": 2048000,
      "rowLimit": 10000
     },
     "inputWidgets": {},
     "nuid": "fa07d715-a2da-43da-90e3-a98db2cbdfb7",
     "showTitle": false,
     "tableResultSettingsMap": {},
     "title": ""
    }
   },
   "outputs": [
    {
     "output_type": "display_data",
     "data": {
      "text/html": [
       "<style scoped>\n",
       "  .table-result-container {\n",
       "    max-height: 300px;\n",
       "    overflow: auto;\n",
       "  }\n",
       "  table, th, td {\n",
       "    border: 1px solid black;\n",
       "    border-collapse: collapse;\n",
       "  }\n",
       "  th, td {\n",
       "    padding: 5px;\n",
       "  }\n",
       "  th {\n",
       "    text-align: left;\n",
       "  }\n",
       "</style><div class='table-result-container'><table class='table-result'><thead style='background-color: white'><tr><th>pais</th><th>Year</th><th>percentual_nao_renovavel</th></tr></thead><tbody><tr><td>Nauru</td><td>2020</td><td>100.0</td></tr><tr><td>Gambia</td><td>2020</td><td>100.0</td></tr><tr><td>Guinea-Bissau</td><td>2020</td><td>100.0</td></tr><tr><td>Grenada</td><td>2020</td><td>100.0</td></tr><tr><td>Djibouti</td><td>2020</td><td>100.0</td></tr><tr><td>Kiribati</td><td>2020</td><td>100.0</td></tr><tr><td>Turkmenistan</td><td>2020</td><td>100.0</td></tr><tr><td>Saint Lucia</td><td>2020</td><td>100.0</td></tr><tr><td>Solomon Islands</td><td>2020</td><td>100.0</td></tr><tr><td>Bahamas</td><td>2020</td><td>100.0</td></tr><tr><td>Comoros</td><td>2020</td><td>100.0</td></tr><tr><td>Libya</td><td>2020</td><td>99.97</td></tr><tr><td>Bahrain</td><td>2020</td><td>99.97</td></tr><tr><td>Qatar</td><td>2020</td><td>99.96</td></tr><tr><td>Kuwait</td><td>2020</td><td>99.93</td></tr><tr><td>Trinidad and Tobago</td><td>2020</td><td>99.88</td></tr><tr><td>Oman</td><td>2020</td><td>99.62</td></tr><tr><td>Botswana</td><td>2020</td><td>99.51</td></tr><tr><td>Algeria</td><td>2020</td><td>99.01</td></tr><tr><td>Singapore</td><td>2020</td><td>98.37</td></tr><tr><td>Bangladesh</td><td>2020</td><td>98.27</td></tr><tr><td>South Sudan</td><td>2020</td><td>98.15</td></tr><tr><td>Eritrea</td><td>2020</td><td>97.62</td></tr><tr><td>Puerto Rico</td><td>2020</td><td>97.26</td></tr><tr><td>Cayman Islands</td><td>2020</td><td>97.1</td></tr><tr><td>Chad</td><td>2020</td><td>96.55</td></tr><tr><td>Belarus</td><td>2020</td><td>96.49</td></tr><tr><td>Tunisia</td><td>2020</td><td>95.66</td></tr><tr><td>United Arab Emirates</td><td>2020</td><td>95.65</td></tr><tr><td>Benin</td><td>2020</td><td>95.65</td></tr><tr><td>Saint Kitts and Nevis</td><td>2020</td><td>95.24</td></tr><tr><td>Azerbaijan</td><td>2020</td><td>95.0</td></tr><tr><td>Israel</td><td>2020</td><td>94.61</td></tr><tr><td>Iraq</td><td>2020</td><td>94.22</td></tr><tr><td>South Africa</td><td>2020</td><td>94.22</td></tr><tr><td>Antigua and Barbuda</td><td>2020</td><td>93.94</td></tr><tr><td>Lebanon</td><td>2020</td><td>93.79</td></tr><tr><td>Maldives</td><td>2020</td><td>93.44</td></tr><tr><td>Barbados</td><td>2020</td><td>93.0</td></tr><tr><td>Somalia</td><td>2020</td><td>92.11</td></tr><tr><td>Uzbekistan</td><td>2020</td><td>91.04</td></tr><tr><td>Sao Tome and Principe</td><td>2020</td><td>90.0</td></tr><tr><td>Mongolia</td><td>2020</td><td>89.88</td></tr><tr><td>Egypt</td><td>2020</td><td>89.0</td></tr><tr><td>Niger</td><td>2020</td><td>88.37</td></tr><tr><td>Malta</td><td>2020</td><td>88.37</td></tr><tr><td>Seychelles</td><td>2020</td><td>88.33</td></tr><tr><td>Ukraine</td><td>2020</td><td>88.16</td></tr><tr><td>Haiti</td><td>2020</td><td>88.04</td></tr><tr><td>Cyprus</td><td>2020</td><td>87.63</td></tr><tr><td>Burkina Faso</td><td>2020</td><td>87.2</td></tr><tr><td>Guyana</td><td>2020</td><td>87.07</td></tr><tr><td>Czechia</td><td>2020</td><td>87.04</td></tr><tr><td>New Caledonia</td><td>2020</td><td>86.67</td></tr><tr><td>Thailand</td><td>2020</td><td>86.2</td></tr><tr><td>Tonga</td><td>2020</td><td>85.71</td></tr><tr><td>Yemen</td><td>2020</td><td>84.83</td></tr><tr><td>Jamaica</td><td>2020</td><td>84.28</td></tr><tr><td>Hungary</td><td>2020</td><td>84.13</td></tr><tr><td>Cuba</td><td>2020</td><td>83.17</td></tr><tr><td>Aruba</td><td>2020</td><td>82.95</td></tr><tr><td>Dominican Republic</td><td>2020</td><td>82.57</td></tr><tr><td>Poland</td><td>2020</td><td>82.04</td></tr><tr><td>Morocco</td><td>2020</td><td>81.71</td></tr><tr><td>Bulgaria</td><td>2020</td><td>81.43</td></tr><tr><td>Senegal</td><td>2020</td><td>80.88</td></tr><tr><td>India</td><td>2020</td><td>79.79</td></tr><tr><td>United States</td><td>2020</td><td>79.68</td></tr><tr><td>Mauritius</td><td>2020</td><td>79.2</td></tr><tr><td>Mexico</td><td>2020</td><td>78.74</td></tr><tr><td>Japan</td><td>2020</td><td>78.68</td></tr><tr><td>Jordan</td><td>2020</td><td>78.44</td></tr><tr><td>Philippines</td><td>2020</td><td>77.35</td></tr><tr><td>France</td><td>2020</td><td>76.24</td></tr><tr><td>Slovakia</td><td>2020</td><td>75.97</td></tr><tr><td>Dominica</td><td>2020</td><td>75.0</td></tr><tr><td>Congo</td><td>2020</td><td>74.93</td></tr><tr><td>Australia</td><td>2020</td><td>74.5</td></tr><tr><td>Armenia</td><td>2020</td><td>74.23</td></tr><tr><td>Togo</td><td>2020</td><td>74.14</td></tr><tr><td>Nigeria</td><td>2020</td><td>73.93</td></tr><tr><td>Netherlands</td><td>2020</td><td>73.33</td></tr><tr><td>Saint Vincent and the Grenadines</td><td>2020</td><td>73.33</td></tr><tr><td>Belgium</td><td>2020</td><td>73.31</td></tr><tr><td>Argentina</td><td>2020</td><td>73.29</td></tr><tr><td>Mauritania</td><td>2020</td><td>72.88</td></tr><tr><td>Serbia</td><td>2020</td><td>72.58</td></tr><tr><td>Papua New Guinea</td><td>2020</td><td>72.41</td></tr><tr><td>North Macedonia</td><td>2020</td><td>72.28</td></tr><tr><td>China</td><td>2020</td><td>71.75</td></tr><tr><td>Vanuatu</td><td>2020</td><td>71.43</td></tr><tr><td>Bosnia and Herzegovina</td><td>2020</td><td>68.83</td></tr><tr><td>Pakistan</td><td>2020</td><td>68.81</td></tr><tr><td>Slovenia</td><td>2020</td><td>66.96</td></tr><tr><td>Madagascar</td><td>2020</td><td>65.48</td></tr><tr><td>Equatorial Guinea</td><td>2020</td><td>65.25</td></tr><tr><td>Mali</td><td>2020</td><td>63.75</td></tr><tr><td>Greece</td><td>2020</td><td>63.56</td></tr><tr><td>Ghana</td><td>2020</td><td>63.47</td></tr><tr><td>Samoa</td><td>2020</td><td>62.5</td></tr><tr><td>Sri Lanka</td><td>2020</td><td>61.87</td></tr><tr><td>Belize</td><td>2020</td><td>61.29</td></tr><tr><td>Turkey</td><td>2020</td><td>57.98</td></tr><tr><td>Italy</td><td>2020</td><td>57.96</td></tr><tr><td>Ireland</td><td>2020</td><td>57.9</td></tr><tr><td>United Kingdom</td><td>2020</td><td>57.14</td></tr><tr><td>Spain</td><td>2020</td><td>56.19</td></tr><tr><td>Romania</td><td>2020</td><td>55.75</td></tr><tr><td>Germany</td><td>2020</td><td>55.67</td></tr><tr><td>Gabon</td><td>2020</td><td>54.09</td></tr><tr><td>Myanmar</td><td>2020</td><td>51.99</td></tr><tr><td>Estonia</td><td>2020</td><td>51.15</td></tr><tr><td>Suriname</td><td>2020</td><td>48.96</td></tr><tr><td>Honduras</td><td>2020</td><td>48.28</td></tr><tr><td>Finland</td><td>2020</td><td>47.96</td></tr><tr><td>Montenegro</td><td>2020</td><td>47.79</td></tr><tr><td>Cambodia</td><td>2020</td><td>45.33</td></tr><tr><td>Nicaragua</td><td>2020</td><td>45.25</td></tr><tr><td>Zimbabwe</td><td>2020</td><td>44.8</td></tr><tr><td>Lithuania</td><td>2020</td><td>43.27</td></tr><tr><td>Portugal</td><td>2020</td><td>41.58</td></tr><tr><td>Liberia</td><td>2020</td><td>40.45</td></tr><tr><td>Switzerland</td><td>2020</td><td>39.48</td></tr><tr><td>Latvia</td><td>2020</td><td>36.36</td></tr><tr><td>Fiji</td><td>2020</td><td>36.36</td></tr><tr><td>Peru</td><td>2020</td><td>36.16</td></tr><tr><td>Croatia</td><td>2020</td><td>35.42</td></tr><tr><td>Colombia</td><td>2020</td><td>35.22</td></tr><tr><td>Rwanda</td><td>2020</td><td>35.16</td></tr><tr><td>Sudan</td><td>2020</td><td>34.49</td></tr><tr><td>Cameroon</td><td>2020</td><td>34.26</td></tr><tr><td>Guatemala</td><td>2020</td><td>32.86</td></tr><tr><td>Sweden</td><td>2020</td><td>31.53</td></tr><tr><td>Burundi</td><td>2020</td><td>31.43</td></tr><tr><td>Canada</td><td>2020</td><td>31.22</td></tr><tr><td>Angola</td><td>2020</td><td>27.06</td></tr><tr><td>Georgia</td><td>2020</td><td>25.27</td></tr><tr><td>Panama</td><td>2020</td><td>24.43</td></tr><tr><td>Guinea</td><td>2020</td><td>22.19</td></tr><tr><td>Ecuador</td><td>2020</td><td>20.62</td></tr><tr><td>El Salvador</td><td>2020</td><td>20.61</td></tr><tr><td>Luxembourg</td><td>2020</td><td>20.49</td></tr><tr><td>Austria</td><td>2020</td><td>19.9</td></tr><tr><td>New Zealand</td><td>2020</td><td>19.5</td></tr><tr><td>Denmark</td><td>2020</td><td>18.38</td></tr><tr><td>Mozambique</td><td>2020</td><td>18.05</td></tr><tr><td>Uruguay</td><td>2020</td><td>17.73</td></tr><tr><td>Brazil</td><td>2020</td><td>15.36</td></tr><tr><td>Afghanistan</td><td>2020</td><td>15.0</td></tr><tr><td>Zambia</td><td>2020</td><td>13.25</td></tr><tr><td>Malawi</td><td>2020</td><td>12.28</td></tr><tr><td>Sierra Leone</td><td>2020</td><td>9.52</td></tr><tr><td>Kyrgyzstan</td><td>2020</td><td>8.47</td></tr><tr><td>Tajikistan</td><td>2020</td><td>8.21</td></tr><tr><td>Kenya</td><td>2020</td><td>7.83</td></tr><tr><td>Eswatini</td><td>2020</td><td>5.41</td></tr><tr><td>Namibia</td><td>2020</td><td>3.08</td></tr><tr><td>Uganda</td><td>2020</td><td>2.92</td></tr><tr><td>Costa Rica</td><td>2020</td><td>1.62</td></tr><tr><td>Norway</td><td>2020</td><td>1.43</td></tr><tr><td>Paraguay</td><td>2020</td><td>0.15</td></tr><tr><td>Ethiopia</td><td>2020</td><td>0.07</td></tr><tr><td>Nepal</td><td>2020</td><td>0.0</td></tr><tr><td>Lesotho</td><td>2020</td><td>0.0</td></tr><tr><td>Iceland</td><td>2020</td><td>0.0</td></tr><tr><td>Central African Republic</td><td>2020</td><td>0.0</td></tr><tr><td>Albania</td><td>2020</td><td>0.0</td></tr><tr><td>Bhutan</td><td>2020</td><td>0.0</td></tr><tr><td>Malaysia</td><td>2020</td><td>null</td></tr><tr><td>Indonesia</td><td>2020</td><td>null</td></tr><tr><td>Kazakhstan</td><td>2020</td><td>null</td></tr><tr><td>Tuvalu</td><td>2020</td><td>null</td></tr><tr><td>Saudi Arabia</td><td>2020</td><td>null</td></tr><tr><td>Bermuda</td><td>2020</td><td>null</td></tr><tr><td>Chile</td><td>2020</td><td>null</td></tr></tbody></table></div>"
      ]
     },
     "metadata": {
      "application/vnd.databricks.v1+output": {
       "addedWidgets": {},
       "aggData": [],
       "aggError": "",
       "aggOverflow": false,
       "aggSchema": [],
       "aggSeriesLimitReached": false,
       "aggType": "",
       "arguments": {},
       "columnCustomDisplayInfos": {},
       "data": [
        [
         "Nauru",
         2020,
         100.0
        ],
        [
         "Gambia",
         2020,
         100.0
        ],
        [
         "Guinea-Bissau",
         2020,
         100.0
        ],
        [
         "Grenada",
         2020,
         100.0
        ],
        [
         "Djibouti",
         2020,
         100.0
        ],
        [
         "Kiribati",
         2020,
         100.0
        ],
        [
         "Turkmenistan",
         2020,
         100.0
        ],
        [
         "Saint Lucia",
         2020,
         100.0
        ],
        [
         "Solomon Islands",
         2020,
         100.0
        ],
        [
         "Bahamas",
         2020,
         100.0
        ],
        [
         "Comoros",
         2020,
         100.0
        ],
        [
         "Libya",
         2020,
         99.97
        ],
        [
         "Bahrain",
         2020,
         99.97
        ],
        [
         "Qatar",
         2020,
         99.96
        ],
        [
         "Kuwait",
         2020,
         99.93
        ],
        [
         "Trinidad and Tobago",
         2020,
         99.88
        ],
        [
         "Oman",
         2020,
         99.62
        ],
        [
         "Botswana",
         2020,
         99.51
        ],
        [
         "Algeria",
         2020,
         99.01
        ],
        [
         "Singapore",
         2020,
         98.37
        ],
        [
         "Bangladesh",
         2020,
         98.27
        ],
        [
         "South Sudan",
         2020,
         98.15
        ],
        [
         "Eritrea",
         2020,
         97.62
        ],
        [
         "Puerto Rico",
         2020,
         97.26
        ],
        [
         "Cayman Islands",
         2020,
         97.1
        ],
        [
         "Chad",
         2020,
         96.55
        ],
        [
         "Belarus",
         2020,
         96.49
        ],
        [
         "Tunisia",
         2020,
         95.66
        ],
        [
         "United Arab Emirates",
         2020,
         95.65
        ],
        [
         "Benin",
         2020,
         95.65
        ],
        [
         "Saint Kitts and Nevis",
         2020,
         95.24
        ],
        [
         "Azerbaijan",
         2020,
         95.0
        ],
        [
         "Israel",
         2020,
         94.61
        ],
        [
         "Iraq",
         2020,
         94.22
        ],
        [
         "South Africa",
         2020,
         94.22
        ],
        [
         "Antigua and Barbuda",
         2020,
         93.94
        ],
        [
         "Lebanon",
         2020,
         93.79
        ],
        [
         "Maldives",
         2020,
         93.44
        ],
        [
         "Barbados",
         2020,
         93.0
        ],
        [
         "Somalia",
         2020,
         92.11
        ],
        [
         "Uzbekistan",
         2020,
         91.04
        ],
        [
         "Sao Tome and Principe",
         2020,
         90.0
        ],
        [
         "Mongolia",
         2020,
         89.88
        ],
        [
         "Egypt",
         2020,
         89.0
        ],
        [
         "Niger",
         2020,
         88.37
        ],
        [
         "Malta",
         2020,
         88.37
        ],
        [
         "Seychelles",
         2020,
         88.33
        ],
        [
         "Ukraine",
         2020,
         88.16
        ],
        [
         "Haiti",
         2020,
         88.04
        ],
        [
         "Cyprus",
         2020,
         87.63
        ],
        [
         "Burkina Faso",
         2020,
         87.2
        ],
        [
         "Guyana",
         2020,
         87.07
        ],
        [
         "Czechia",
         2020,
         87.04
        ],
        [
         "New Caledonia",
         2020,
         86.67
        ],
        [
         "Thailand",
         2020,
         86.2
        ],
        [
         "Tonga",
         2020,
         85.71
        ],
        [
         "Yemen",
         2020,
         84.83
        ],
        [
         "Jamaica",
         2020,
         84.28
        ],
        [
         "Hungary",
         2020,
         84.13
        ],
        [
         "Cuba",
         2020,
         83.17
        ],
        [
         "Aruba",
         2020,
         82.95
        ],
        [
         "Dominican Republic",
         2020,
         82.57
        ],
        [
         "Poland",
         2020,
         82.04
        ],
        [
         "Morocco",
         2020,
         81.71
        ],
        [
         "Bulgaria",
         2020,
         81.43
        ],
        [
         "Senegal",
         2020,
         80.88
        ],
        [
         "India",
         2020,
         79.79
        ],
        [
         "United States",
         2020,
         79.68
        ],
        [
         "Mauritius",
         2020,
         79.2
        ],
        [
         "Mexico",
         2020,
         78.74
        ],
        [
         "Japan",
         2020,
         78.68
        ],
        [
         "Jordan",
         2020,
         78.44
        ],
        [
         "Philippines",
         2020,
         77.35
        ],
        [
         "France",
         2020,
         76.24
        ],
        [
         "Slovakia",
         2020,
         75.97
        ],
        [
         "Dominica",
         2020,
         75.0
        ],
        [
         "Congo",
         2020,
         74.93
        ],
        [
         "Australia",
         2020,
         74.5
        ],
        [
         "Armenia",
         2020,
         74.23
        ],
        [
         "Togo",
         2020,
         74.14
        ],
        [
         "Nigeria",
         2020,
         73.93
        ],
        [
         "Netherlands",
         2020,
         73.33
        ],
        [
         "Saint Vincent and the Grenadines",
         2020,
         73.33
        ],
        [
         "Belgium",
         2020,
         73.31
        ],
        [
         "Argentina",
         2020,
         73.29
        ],
        [
         "Mauritania",
         2020,
         72.88
        ],
        [
         "Serbia",
         2020,
         72.58
        ],
        [
         "Papua New Guinea",
         2020,
         72.41
        ],
        [
         "North Macedonia",
         2020,
         72.28
        ],
        [
         "China",
         2020,
         71.75
        ],
        [
         "Vanuatu",
         2020,
         71.43
        ],
        [
         "Bosnia and Herzegovina",
         2020,
         68.83
        ],
        [
         "Pakistan",
         2020,
         68.81
        ],
        [
         "Slovenia",
         2020,
         66.96
        ],
        [
         "Madagascar",
         2020,
         65.48
        ],
        [
         "Equatorial Guinea",
         2020,
         65.25
        ],
        [
         "Mali",
         2020,
         63.75
        ],
        [
         "Greece",
         2020,
         63.56
        ],
        [
         "Ghana",
         2020,
         63.47
        ],
        [
         "Samoa",
         2020,
         62.5
        ],
        [
         "Sri Lanka",
         2020,
         61.87
        ],
        [
         "Belize",
         2020,
         61.29
        ],
        [
         "Turkey",
         2020,
         57.98
        ],
        [
         "Italy",
         2020,
         57.96
        ],
        [
         "Ireland",
         2020,
         57.9
        ],
        [
         "United Kingdom",
         2020,
         57.14
        ],
        [
         "Spain",
         2020,
         56.19
        ],
        [
         "Romania",
         2020,
         55.75
        ],
        [
         "Germany",
         2020,
         55.67
        ],
        [
         "Gabon",
         2020,
         54.09
        ],
        [
         "Myanmar",
         2020,
         51.99
        ],
        [
         "Estonia",
         2020,
         51.15
        ],
        [
         "Suriname",
         2020,
         48.96
        ],
        [
         "Honduras",
         2020,
         48.28
        ],
        [
         "Finland",
         2020,
         47.96
        ],
        [
         "Montenegro",
         2020,
         47.79
        ],
        [
         "Cambodia",
         2020,
         45.33
        ],
        [
         "Nicaragua",
         2020,
         45.25
        ],
        [
         "Zimbabwe",
         2020,
         44.8
        ],
        [
         "Lithuania",
         2020,
         43.27
        ],
        [
         "Portugal",
         2020,
         41.58
        ],
        [
         "Liberia",
         2020,
         40.45
        ],
        [
         "Switzerland",
         2020,
         39.48
        ],
        [
         "Latvia",
         2020,
         36.36
        ],
        [
         "Fiji",
         2020,
         36.36
        ],
        [
         "Peru",
         2020,
         36.16
        ],
        [
         "Croatia",
         2020,
         35.42
        ],
        [
         "Colombia",
         2020,
         35.22
        ],
        [
         "Rwanda",
         2020,
         35.16
        ],
        [
         "Sudan",
         2020,
         34.49
        ],
        [
         "Cameroon",
         2020,
         34.26
        ],
        [
         "Guatemala",
         2020,
         32.86
        ],
        [
         "Sweden",
         2020,
         31.53
        ],
        [
         "Burundi",
         2020,
         31.43
        ],
        [
         "Canada",
         2020,
         31.22
        ],
        [
         "Angola",
         2020,
         27.06
        ],
        [
         "Georgia",
         2020,
         25.27
        ],
        [
         "Panama",
         2020,
         24.43
        ],
        [
         "Guinea",
         2020,
         22.19
        ],
        [
         "Ecuador",
         2020,
         20.62
        ],
        [
         "El Salvador",
         2020,
         20.61
        ],
        [
         "Luxembourg",
         2020,
         20.49
        ],
        [
         "Austria",
         2020,
         19.9
        ],
        [
         "New Zealand",
         2020,
         19.5
        ],
        [
         "Denmark",
         2020,
         18.38
        ],
        [
         "Mozambique",
         2020,
         18.05
        ],
        [
         "Uruguay",
         2020,
         17.73
        ],
        [
         "Brazil",
         2020,
         15.36
        ],
        [
         "Afghanistan",
         2020,
         15.0
        ],
        [
         "Zambia",
         2020,
         13.25
        ],
        [
         "Malawi",
         2020,
         12.28
        ],
        [
         "Sierra Leone",
         2020,
         9.52
        ],
        [
         "Kyrgyzstan",
         2020,
         8.47
        ],
        [
         "Tajikistan",
         2020,
         8.21
        ],
        [
         "Kenya",
         2020,
         7.83
        ],
        [
         "Eswatini",
         2020,
         5.41
        ],
        [
         "Namibia",
         2020,
         3.08
        ],
        [
         "Uganda",
         2020,
         2.92
        ],
        [
         "Costa Rica",
         2020,
         1.62
        ],
        [
         "Norway",
         2020,
         1.43
        ],
        [
         "Paraguay",
         2020,
         0.15
        ],
        [
         "Ethiopia",
         2020,
         0.07
        ],
        [
         "Nepal",
         2020,
         0.0
        ],
        [
         "Lesotho",
         2020,
         0.0
        ],
        [
         "Iceland",
         2020,
         0.0
        ],
        [
         "Central African Republic",
         2020,
         0.0
        ],
        [
         "Albania",
         2020,
         0.0
        ],
        [
         "Bhutan",
         2020,
         0.0
        ],
        [
         "Malaysia",
         2020,
         null
        ],
        [
         "Indonesia",
         2020,
         null
        ],
        [
         "Kazakhstan",
         2020,
         null
        ],
        [
         "Tuvalu",
         2020,
         null
        ],
        [
         "Saudi Arabia",
         2020,
         null
        ],
        [
         "Bermuda",
         2020,
         null
        ],
        [
         "Chile",
         2020,
         null
        ]
       ],
       "datasetInfos": [],
       "dbfsResultPath": null,
       "isJsonSchema": true,
       "metadata": {
        "isDbfsCommandResult": false
       },
       "overflow": false,
       "plotOptions": {
        "customPlotOptions": {},
        "displayType": "table",
        "pivotAggregation": null,
        "pivotColumns": null,
        "xColumns": null,
        "yColumns": null
       },
       "removedWidgets": [],
       "schema": [
        {
         "metadata": "{\"comment\":\"Nome oficial do país ou território.\"}",
         "name": "pais",
         "type": "\"string\""
        },
        {
         "metadata": "{\"comment\":\"Ano da medição, no formato AAAA.\"}",
         "name": "Year",
         "type": "\"long\""
        },
        {
         "metadata": "{}",
         "name": "percentual_nao_renovavel",
         "type": "\"double\""
        }
       ],
       "type": "table"
      }
     },
     "output_type": "display_data"
    }
   ],
   "source": [
    "%sql\n",
    "SELECT     \n",
    "    p.Entity AS pais,\n",
    "    d.Year,\n",
    "    ROUND(\n",
    "        100 * SUM(d.electricity_fossil_fuels + d.electricity_nuclear) / \n",
    "        SUM(d.electricity_fossil_fuels + d.electricity_nuclear + d.electricity_renewables), \n",
    "        2\n",
    "    ) AS percentual_nao_renovavel\n",
    "FROM     \n",
    "    dadosenergeticos.dados d\n",
    "JOIN     \n",
    "    dadosenergeticos.paises p ON d.id_pais = p.id_pais\n",
    "WHERE     \n",
    "    d.Year = 2020\n",
    "\n",
    "GROUP BY     \n",
    "    p.Entity, d.Year\n",
    "ORDER BY     \n",
    "    percentual_nao_renovavel DESC;\n"
   ]
  },
  {
   "cell_type": "code",
   "execution_count": 0,
   "metadata": {
    "application/vnd.databricks.v1+cell": {
     "cellMetadata": {
      "byteLimit": 2048000,
      "rowLimit": 10000
     },
     "inputWidgets": {},
     "nuid": "80a2cf3c-e443-4c16-819c-bfda9535bf27",
     "showTitle": false,
     "tableResultSettingsMap": {},
     "title": ""
    }
   },
   "outputs": [
    {
     "output_type": "display_data",
     "data": {
      "text/html": [
       "<style scoped>\n",
       "  .table-result-container {\n",
       "    max-height: 300px;\n",
       "    overflow: auto;\n",
       "  }\n",
       "  table, th, td {\n",
       "    border: 1px solid black;\n",
       "    border-collapse: collapse;\n",
       "  }\n",
       "  th, td {\n",
       "    padding: 5px;\n",
       "  }\n",
       "  th {\n",
       "    text-align: left;\n",
       "  }\n",
       "</style><div class='table-result-container'><table class='table-result'><thead style='background-color: white'><tr><th>pais</th><th>Year</th><th>percentual_renovavel</th></tr></thead><tbody><tr><td>Nepal</td><td>2020</td><td>100.0</td></tr><tr><td>Lesotho</td><td>2020</td><td>100.0</td></tr><tr><td>Iceland</td><td>2020</td><td>100.0</td></tr><tr><td>Central African Republic</td><td>2020</td><td>100.0</td></tr><tr><td>Albania</td><td>2020</td><td>100.0</td></tr><tr><td>Bhutan</td><td>2020</td><td>100.0</td></tr><tr><td>Ethiopia</td><td>2020</td><td>99.93</td></tr><tr><td>Paraguay</td><td>2020</td><td>99.85</td></tr><tr><td>Norway</td><td>2020</td><td>98.57</td></tr><tr><td>Costa Rica</td><td>2020</td><td>98.38</td></tr></tbody></table></div>"
      ]
     },
     "metadata": {
      "application/vnd.databricks.v1+output": {
       "addedWidgets": {},
       "aggData": [],
       "aggError": "",
       "aggOverflow": false,
       "aggSchema": [],
       "aggSeriesLimitReached": false,
       "aggType": "",
       "arguments": {},
       "columnCustomDisplayInfos": {},
       "data": [
        [
         "Nepal",
         2020,
         100.0
        ],
        [
         "Lesotho",
         2020,
         100.0
        ],
        [
         "Iceland",
         2020,
         100.0
        ],
        [
         "Central African Republic",
         2020,
         100.0
        ],
        [
         "Albania",
         2020,
         100.0
        ],
        [
         "Bhutan",
         2020,
         100.0
        ],
        [
         "Ethiopia",
         2020,
         99.93
        ],
        [
         "Paraguay",
         2020,
         99.85
        ],
        [
         "Norway",
         2020,
         98.57
        ],
        [
         "Costa Rica",
         2020,
         98.38
        ]
       ],
       "datasetInfos": [],
       "dbfsResultPath": null,
       "isJsonSchema": true,
       "metadata": {
        "isDbfsCommandResult": false
       },
       "overflow": false,
       "plotOptions": {
        "customPlotOptions": {},
        "displayType": "table",
        "pivotAggregation": null,
        "pivotColumns": null,
        "xColumns": null,
        "yColumns": null
       },
       "removedWidgets": [],
       "schema": [
        {
         "metadata": "{\"comment\":\"Nome oficial do país ou território.\"}",
         "name": "pais",
         "type": "\"string\""
        },
        {
         "metadata": "{\"comment\":\"Ano da medição, no formato AAAA.\"}",
         "name": "Year",
         "type": "\"long\""
        },
        {
         "metadata": "{}",
         "name": "percentual_renovavel",
         "type": "\"double\""
        }
       ],
       "type": "table"
      }
     },
     "output_type": "display_data"
    }
   ],
   "source": [
    "%sql\n",
    "SELECT     \n",
    "    p.Entity AS pais,\n",
    "    d.Year,\n",
    "    ROUND(\n",
    "        100 * SUM(d.electricity_renewables) / \n",
    "        SUM(d.electricity_fossil_fuels + d.electricity_nuclear + d.electricity_renewables), \n",
    "        2\n",
    "    ) AS percentual_renovavel\n",
    "FROM     \n",
    "    dadosenergeticos.dados d\n",
    "JOIN     \n",
    "    dadosenergeticos.paises p ON d.id_pais = p.id_pais\n",
    "WHERE     \n",
    "    d.Year = 2020\n",
    "\n",
    "GROUP BY     \n",
    "    p.Entity, d.Year\n",
    "ORDER BY     \n",
    "    percentual_renovavel DESC\n",
    "LIMIT 10;\n"
   ]
  },
  {
   "cell_type": "code",
   "execution_count": 0,
   "metadata": {
    "application/vnd.databricks.v1+cell": {
     "cellMetadata": {
      "byteLimit": 2048000,
      "rowLimit": 10000
     },
     "inputWidgets": {},
     "nuid": "4fef0e0f-3b46-44a6-8fbf-146f4492c796",
     "showTitle": false,
     "tableResultSettingsMap": {},
     "title": ""
    }
   },
   "outputs": [
    {
     "output_type": "display_data",
     "data": {
      "text/html": [
       "<style scoped>\n",
       "  .table-result-container {\n",
       "    max-height: 300px;\n",
       "    overflow: auto;\n",
       "  }\n",
       "  table, th, td {\n",
       "    border: 1px solid black;\n",
       "    border-collapse: collapse;\n",
       "  }\n",
       "  th, td {\n",
       "    padding: 5px;\n",
       "  }\n",
       "  th {\n",
       "    text-align: left;\n",
       "  }\n",
       "</style><div class='table-result-container'><table class='table-result'><thead style='background-color: white'><tr><th>Continente</th><th>total_eletricidade_5_anos</th><th>media_consumo_per_capita_5_anos</th></tr></thead><tbody><tr><td>Asia</td><td>63124.09</td><td>37368.73</td></tr><tr><td>North America</td><td>31116.38</td><td>28416.36</td></tr><tr><td>Europe</td><td>22091.49</td><td>42181.9</td></tr><tr><td>South America</td><td>5763.16</td><td>16078.87</td></tr><tr><td>Africa</td><td>4615.16</td><td>5564.52</td></tr><tr><td>Oceania</td><td>1791.09</td><td>22916.69</td></tr></tbody></table></div>"
      ]
     },
     "metadata": {
      "application/vnd.databricks.v1+output": {
       "addedWidgets": {},
       "aggData": [],
       "aggError": "",
       "aggOverflow": false,
       "aggSchema": [],
       "aggSeriesLimitReached": false,
       "aggType": "",
       "arguments": {},
       "columnCustomDisplayInfos": {},
       "data": [
        [
         "Asia",
         63124.09,
         37368.73
        ],
        [
         "North America",
         31116.38,
         28416.36
        ],
        [
         "Europe",
         22091.49,
         42181.9
        ],
        [
         "South America",
         5763.16,
         16078.87
        ],
        [
         "Africa",
         4615.16,
         5564.52
        ],
        [
         "Oceania",
         1791.09,
         22916.69
        ]
       ],
       "datasetInfos": [],
       "dbfsResultPath": null,
       "isJsonSchema": true,
       "metadata": {
        "isDbfsCommandResult": false
       },
       "overflow": false,
       "plotOptions": {
        "customPlotOptions": {},
        "displayType": "table",
        "pivotAggregation": null,
        "pivotColumns": null,
        "xColumns": null,
        "yColumns": null
       },
       "removedWidgets": [],
       "schema": [
        {
         "metadata": "{\"comment\":\"Nome do continente (ex.: Africa, North America, South America, Asia, Europe, Oceania, Antartica)\"}",
         "name": "Continente",
         "type": "\"string\""
        },
        {
         "metadata": "{}",
         "name": "total_eletricidade_5_anos",
         "type": "\"double\""
        },
        {
         "metadata": "{}",
         "name": "media_consumo_per_capita_5_anos",
         "type": "\"double\""
        }
       ],
       "type": "table"
      }
     },
     "output_type": "display_data"
    }
   ],
   "source": [
    "%sql\n",
    "SELECT \n",
    "    c.Continente AS Continente,\n",
    "    ROUND(SUM(d.electricity_fossil_fuels + d.electricity_nuclear + d.electricity_renewables), 2) AS total_eletricidade_5_anos,\n",
    "    ROUND(AVG(d.Primary_energy_consumption_per_capita), 2) AS media_consumo_per_capita_5_anos\n",
    "FROM \n",
    "    dadosenergeticos.dados d\n",
    "JOIN \n",
    "    dadosenergeticos.paises p ON d.id_pais = p.id_pais\n",
    "JOIN \n",
    "    dadosenergeticos.continente c ON p.id_continente = c.id_continente\n",
    "WHERE \n",
    "    d.Year BETWEEN 2015 AND 2020\n",
    "    AND d.electricity_fossil_fuels IS NOT NULL\n",
    "    AND d.electricity_nuclear IS NOT NULL\n",
    "    AND d.electricity_renewables IS NOT NULL\n",
    "    AND d.Primary_energy_consumption_per_capita IS NOT NULL\n",
    "GROUP BY \n",
    "    c.Continente\n",
    "ORDER BY \n",
    "    total_eletricidade_5_anos DESC;\n"
   ]
  },
  {
   "cell_type": "code",
   "execution_count": 0,
   "metadata": {
    "application/vnd.databricks.v1+cell": {
     "cellMetadata": {
      "byteLimit": 2048000,
      "rowLimit": 10000
     },
     "inputWidgets": {},
     "nuid": "e7bbc25d-dccf-45ed-b81d-8a5d74abb9cf",
     "showTitle": false,
     "tableResultSettingsMap": {},
     "title": ""
    }
   },
   "outputs": [
    {
     "output_type": "display_data",
     "data": {
      "text/html": [
       "<style scoped>\n",
       "  .table-result-container {\n",
       "    max-height: 300px;\n",
       "    overflow: auto;\n",
       "  }\n",
       "  table, th, td {\n",
       "    border: 1px solid black;\n",
       "    border-collapse: collapse;\n",
       "  }\n",
       "  th, td {\n",
       "    padding: 5px;\n",
       "  }\n",
       "  th {\n",
       "    text-align: left;\n",
       "  }\n",
       "</style><div class='table-result-container'><table class='table-result'><thead style='background-color: white'><tr><th>continente</th><th>total_eletricidade_5_anos_TWh</th><th>media_consumo_per_capita_kWh</th><th>media_pib_per_capita_usd</th></tr></thead><tbody><tr><td>Asia</td><td>62992.33</td><td>39167.18</td><td>13304.29</td></tr><tr><td>North America</td><td>31098.46</td><td>29679.88</td><td>21708.35</td></tr><tr><td>Europe</td><td>21424.62</td><td>42330.61</td><td>32672.92</td></tr><tr><td>South America</td><td>5763.16</td><td>16078.87</td><td>8320.56</td></tr><tr><td>Africa</td><td>3433.3</td><td>5796.76</td><td>2595.24</td></tr><tr><td>Oceania</td><td>1787.94</td><td>22126.76</td><td>14606.07</td></tr></tbody></table></div>"
      ]
     },
     "metadata": {
      "application/vnd.databricks.v1+output": {
       "addedWidgets": {},
       "aggData": [],
       "aggError": "",
       "aggOverflow": false,
       "aggSchema": [],
       "aggSeriesLimitReached": false,
       "aggType": "",
       "arguments": {},
       "columnCustomDisplayInfos": {},
       "data": [
        [
         "Asia",
         62992.33,
         39167.18,
         13304.29
        ],
        [
         "North America",
         31098.46,
         29679.88,
         21708.35
        ],
        [
         "Europe",
         21424.62,
         42330.61,
         32672.92
        ],
        [
         "South America",
         5763.16,
         16078.87,
         8320.56
        ],
        [
         "Africa",
         3433.3,
         5796.76,
         2595.24
        ],
        [
         "Oceania",
         1787.94,
         22126.76,
         14606.07
        ]
       ],
       "datasetInfos": [],
       "dbfsResultPath": null,
       "isJsonSchema": true,
       "metadata": {
        "isDbfsCommandResult": false
       },
       "overflow": false,
       "plotOptions": {
        "customPlotOptions": {},
        "displayType": "table",
        "pivotAggregation": null,
        "pivotColumns": null,
        "xColumns": null,
        "yColumns": null
       },
       "removedWidgets": [],
       "schema": [
        {
         "metadata": "{\"comment\":\"Nome do continente (ex.: Africa, North America, South America, Asia, Europe, Oceania, Antartica)\"}",
         "name": "continente",
         "type": "\"string\""
        },
        {
         "metadata": "{}",
         "name": "total_eletricidade_5_anos_TWh",
         "type": "\"double\""
        },
        {
         "metadata": "{}",
         "name": "media_consumo_per_capita_kWh",
         "type": "\"double\""
        },
        {
         "metadata": "{}",
         "name": "media_pib_per_capita_usd",
         "type": "\"double\""
        }
       ],
       "type": "table"
      }
     },
     "output_type": "display_data"
    }
   ],
   "source": [
    "%sql\n",
    "SELECT \n",
    "    c.Continente AS continente,\n",
    "    ROUND(SUM(\n",
    "        d.electricity_fossil_fuels +\n",
    "        d.electricity_nuclear +\n",
    "        d.electricity_renewables\n",
    "    ), 2) AS total_eletricidade_5_anos_TWh,\n",
    "    \n",
    "    ROUND(AVG(d.Primary_energy_consumption_per_capita), 2) AS media_consumo_per_capita_kWh,\n",
    "    \n",
    "    ROUND(AVG(d.gdp_per_capita), 2) AS media_pib_per_capita_usd\n",
    "\n",
    "FROM \n",
    "    dadosenergeticos.dados d\n",
    "JOIN \n",
    "    dadosenergeticos.paises p ON d.id_pais = p.id_pais\n",
    "JOIN \n",
    "    dadosenergeticos.continente c ON p.id_continente = c.id_continente\n",
    "WHERE \n",
    "    d.Year BETWEEN 2015 AND 2020\n",
    "    AND d.electricity_fossil_fuels IS NOT NULL\n",
    "    AND d.electricity_nuclear IS NOT NULL\n",
    "    AND d.electricity_renewables IS NOT NULL\n",
    "    AND d.Primary_energy_consumption_per_capita IS NOT NULL\n",
    "    AND d.gdp_per_capita IS NOT NULL\n",
    "GROUP BY \n",
    "    c.Continente\n",
    "ORDER BY \n",
    "    total_eletricidade_5_anos_TWh DESC;\n"
   ]
  }
 ],
 "metadata": {
  "application/vnd.databricks.v1+notebook": {
   "computePreferences": null,
   "dashboards": [],
   "environmentMetadata": {
    "base_environment": "",
    "environment_version": "1"
   },
   "inputWidgetPreferences": null,
   "language": "python",
   "notebookMetadata": {
    "mostRecentlyExecutedCommandWithImplicitDF": {
     "commandId": -1,
     "dataframes": [
      "_sqldf"
     ]
    },
    "pythonIndentUnit": 4
   },
   "notebookName": "(Clone) Análise",
   "widgets": {}
  }
 },
 "nbformat": 4,
 "nbformat_minor": 0
}